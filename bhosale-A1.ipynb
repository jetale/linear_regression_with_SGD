{
 "cells": [
  {
   "cell_type": "markdown",
   "metadata": {},
   "source": [
    "# A1.1 Linear Regression with SGD"
   ]
  },
  {
   "cell_type": "markdown",
   "metadata": {},
   "source": [
    "* A1.1: *Added preliminary grading script in last cells of notebook.*"
   ]
  },
  {
   "cell_type": "markdown",
   "metadata": {},
   "source": [
    "In this assignment, you will implement three functions `train`, `use`, and `rmse` and apply them to some weather data.\n",
    "Here are the specifications for these functions, which you must satisfy."
   ]
  },
  {
   "cell_type": "markdown",
   "metadata": {},
   "source": [
    "`model = train(X, T, learning_rate, n_epochs, verbose)`\n",
    "* `X`: is an $N$ x $D$ matrix of input data samples, one per row. $N$ is the number of samples and $D$ is the number of variable values in\n",
    "each sample.\n",
    "* `T`: is an $N$ x $K$ matrix of desired target values for each sample.  $K$ is the number of output values you want to predict for each sample.\n",
    "* `learning_rate`: is a scalar that controls the step size of each update to the weight values.\n",
    "* `n_epochs`: is the number of epochs, or passes, through all $N$ samples, to take while updating the weight values.\n",
    "* `verbose`: is True or False (default value) to control whether or not occasional text is printed to show the training progress.\n",
    "* `model`: is the returned value, which must be a dictionary with the keys `'w'`, `'Xmeans'`, `'Xstds'`, `'Tmeans'` and `'Tstds'`.\n",
    "\n",
    "`Y = use(X, model)`\n",
    "* `X`: is an $N$ x $D$ matrix of input data samples, one per row, for which you want to predict the target values.\n",
    "* `model`: is the dictionary returned by `train`.\n",
    "* `Y`: is the returned $N$ x $K$ matrix of predicted values, one for each sample in `X`.\n",
    "\n",
    "`result = rmse(Y, T)`\n",
    "* `Y`: is an $N$ x $K$ matrix of predictions produced by `use`.\n",
    "* `T`: is the $N$ x $K$ matrix of target values.\n",
    "* `result`: is a scalar calculated as the square root of the mean of the squared differences between each sample (row) in `Y` and `T`."
   ]
  },
  {
   "cell_type": "markdown",
   "metadata": {},
   "source": [
    "To get you started, here are the standard imports we need."
   ]
  },
  {
   "cell_type": "code",
   "execution_count": 12,
   "metadata": {},
   "outputs": [
    {
     "name": "stdout",
     "output_type": "stream",
     "text": [
      "Collecting matplotlib\n",
      "  Downloading matplotlib-3.3.4-cp38-cp38-manylinux1_x86_64.whl (11.6 MB)\n",
      "\u001b[K     |████████████████████████████████| 11.6 MB 1.2 MB/s eta 0:00:01\n",
      "\u001b[?25hCollecting pandas\n",
      "  Downloading pandas-1.2.2-cp38-cp38-manylinux1_x86_64.whl (9.7 MB)\n",
      "\u001b[K     |████████████████████████████████| 9.7 MB 1.2 MB/s eta 0:00:01\n",
      "\u001b[?25hCollecting cycler>=0.10\n",
      "  Using cached cycler-0.10.0-py2.py3-none-any.whl (6.5 kB)\n",
      "Requirement already satisfied: numpy>=1.15 in /home/natanz/.local/lib/python3.8/site-packages (from matplotlib) (1.20.1)\n",
      "Collecting kiwisolver>=1.0.1\n",
      "  Downloading kiwisolver-1.3.1-cp38-cp38-manylinux1_x86_64.whl (1.2 MB)\n",
      "\u001b[K     |████████████████████████████████| 1.2 MB 1.1 MB/s eta 0:00:01\n",
      "\u001b[?25hRequirement already satisfied: pillow>=6.2.0 in /usr/lib/python3/dist-packages (from matplotlib) (7.0.0)\n",
      "Requirement already satisfied: python-dateutil>=2.1 in /usr/lib/python3/dist-packages (from matplotlib) (2.7.3)\n",
      "Requirement already satisfied: pyparsing!=2.0.4,!=2.1.2,!=2.1.6,>=2.0.3 in /home/natanz/.local/lib/python3.8/site-packages (from matplotlib) (2.4.7)\n",
      "Requirement already satisfied: pytz>=2017.3 in /usr/lib/python3/dist-packages (from pandas) (2019.3)\n",
      "Requirement already satisfied: six in /usr/lib/python3/dist-packages (from cycler>=0.10->matplotlib) (1.14.0)\n",
      "Installing collected packages: cycler, kiwisolver, matplotlib, pandas\n",
      "Successfully installed cycler-0.10.0 kiwisolver-1.3.1 matplotlib-3.3.4 pandas-1.2.2\n"
     ]
    }
   ],
   "source": [
    "import sys\n",
    "sys.version\n",
    "!python3 -m pip install matplotlib pandas"
   ]
  },
  {
   "cell_type": "code",
   "execution_count": 332,
   "metadata": {
    "lines_to_next_cell": 1
   },
   "outputs": [],
   "source": [
    "import numpy as np\n",
    "import matplotlib.pyplot as plt\n",
    "import pandas\n",
    "from IPython.display import display, clear_output "
   ]
  },
  {
   "cell_type": "code",
   "execution_count": 197,
   "metadata": {},
   "outputs": [
    {
     "data": {
      "text/plain": [
       "array([[ 1.        , -1.71481604],\n",
       "       [ 1.        , -1.68017329],\n",
       "       [ 1.        , -1.64553055],\n",
       "       [ 1.        , -1.6108878 ],\n",
       "       [ 1.        , -1.57624505],\n",
       "       [ 1.        , -1.5416023 ],\n",
       "       [ 1.        , -1.50695955],\n",
       "       [ 1.        , -1.4723168 ],\n",
       "       [ 1.        , -1.43767406],\n",
       "       [ 1.        , -1.40303131],\n",
       "       [ 1.        , -1.36838856],\n",
       "       [ 1.        , -1.33374581],\n",
       "       [ 1.        , -1.29910306],\n",
       "       [ 1.        , -1.26446031],\n",
       "       [ 1.        , -1.22981757],\n",
       "       [ 1.        , -1.19517482],\n",
       "       [ 1.        , -1.16053207],\n",
       "       [ 1.        , -1.12588932],\n",
       "       [ 1.        , -1.09124657],\n",
       "       [ 1.        , -1.05660382],\n",
       "       [ 1.        , -1.02196108],\n",
       "       [ 1.        , -0.98731833],\n",
       "       [ 1.        , -0.95267558],\n",
       "       [ 1.        , -0.91803283],\n",
       "       [ 1.        , -0.88339008],\n",
       "       [ 1.        , -0.84874733],\n",
       "       [ 1.        , -0.81410459],\n",
       "       [ 1.        , -0.77946184],\n",
       "       [ 1.        , -0.74481909],\n",
       "       [ 1.        , -0.71017634],\n",
       "       [ 1.        , -0.67553359],\n",
       "       [ 1.        , -0.64089084],\n",
       "       [ 1.        , -0.6062481 ],\n",
       "       [ 1.        , -0.57160535],\n",
       "       [ 1.        , -0.5369626 ],\n",
       "       [ 1.        , -0.50231985],\n",
       "       [ 1.        , -0.4676771 ],\n",
       "       [ 1.        , -0.43303435],\n",
       "       [ 1.        , -0.39839161],\n",
       "       [ 1.        , -0.36374886],\n",
       "       [ 1.        , -0.32910611],\n",
       "       [ 1.        , -0.29446336],\n",
       "       [ 1.        , -0.25982061],\n",
       "       [ 1.        , -0.22517786],\n",
       "       [ 1.        , -0.19053512],\n",
       "       [ 1.        , -0.15589237],\n",
       "       [ 1.        , -0.12124962],\n",
       "       [ 1.        , -0.08660687],\n",
       "       [ 1.        , -0.05196412],\n",
       "       [ 1.        , -0.01732137],\n",
       "       [ 1.        ,  0.01732137],\n",
       "       [ 1.        ,  0.05196412],\n",
       "       [ 1.        ,  0.08660687],\n",
       "       [ 1.        ,  0.12124962],\n",
       "       [ 1.        ,  0.15589237],\n",
       "       [ 1.        ,  0.19053512],\n",
       "       [ 1.        ,  0.22517786],\n",
       "       [ 1.        ,  0.25982061],\n",
       "       [ 1.        ,  0.29446336],\n",
       "       [ 1.        ,  0.32910611],\n",
       "       [ 1.        ,  0.36374886],\n",
       "       [ 1.        ,  0.39839161],\n",
       "       [ 1.        ,  0.43303435],\n",
       "       [ 1.        ,  0.4676771 ],\n",
       "       [ 1.        ,  0.50231985],\n",
       "       [ 1.        ,  0.5369626 ],\n",
       "       [ 1.        ,  0.57160535],\n",
       "       [ 1.        ,  0.6062481 ],\n",
       "       [ 1.        ,  0.64089084],\n",
       "       [ 1.        ,  0.67553359],\n",
       "       [ 1.        ,  0.71017634],\n",
       "       [ 1.        ,  0.74481909],\n",
       "       [ 1.        ,  0.77946184],\n",
       "       [ 1.        ,  0.81410459],\n",
       "       [ 1.        ,  0.84874733],\n",
       "       [ 1.        ,  0.88339008],\n",
       "       [ 1.        ,  0.91803283],\n",
       "       [ 1.        ,  0.95267558],\n",
       "       [ 1.        ,  0.98731833],\n",
       "       [ 1.        ,  1.02196108],\n",
       "       [ 1.        ,  1.05660382],\n",
       "       [ 1.        ,  1.09124657],\n",
       "       [ 1.        ,  1.12588932],\n",
       "       [ 1.        ,  1.16053207],\n",
       "       [ 1.        ,  1.19517482],\n",
       "       [ 1.        ,  1.22981757],\n",
       "       [ 1.        ,  1.26446031],\n",
       "       [ 1.        ,  1.29910306],\n",
       "       [ 1.        ,  1.33374581],\n",
       "       [ 1.        ,  1.36838856],\n",
       "       [ 1.        ,  1.40303131],\n",
       "       [ 1.        ,  1.43767406],\n",
       "       [ 1.        ,  1.4723168 ],\n",
       "       [ 1.        ,  1.50695955],\n",
       "       [ 1.        ,  1.5416023 ],\n",
       "       [ 1.        ,  1.57624505],\n",
       "       [ 1.        ,  1.6108878 ],\n",
       "       [ 1.        ,  1.64553055],\n",
       "       [ 1.        ,  1.68017329],\n",
       "       [ 1.        ,  1.71481604]])"
      ]
     },
     "execution_count": 197,
     "metadata": {},
     "output_type": "execute_result"
    },
    {
     "data": {
      "image/png": "[encoded data removed]",
      "text/plain": [
       "<Figure size 432x288 with 1 Axes>"
      ]
     },
     "metadata": {
      "needs_background": "light"
     },
     "output_type": "display_data"
    }
   ],
   "source": [
    "X = np.arange(0, 100).reshape(-1, 1)  # make X a 100 x 1 matrix\n",
    "T = 0.5 + 0.3 * X + 0.005 * (X - 50) ** 2\n",
    "plt.plot(X, T, '.')\n",
    "plt.xlabel('X')\n",
    "plt.ylabel('T');\n",
    "\n",
    "x_mean = np.mean(X, axis = 0)\n",
    "x_std = np.std(X, axis = 0)\n",
    "x_mean, x_std\n",
    "\n",
    "X = (X - x_mean)/ x_std\n",
    "np.mean(X, axis = 0), np.std(X, axis=0)\n",
    "X = np.insert(X, 0, 1, 1)\n",
    "X"
   ]
  },
  {
   "cell_type": "markdown",
   "metadata": {},
   "source": [
    "## 60 points: 40 for train, 10 for use, 10 for rmse"
   ]
  },
  {
   "cell_type": "markdown",
   "metadata": {},
   "source": [
    "Now here is a start at defining the `train`, `use`, and `rmse`\n",
    "functions.  Fill in the correct code wherever you see `. . .` with\n",
    "one or more lines of code."
   ]
  },
  {
   "cell_type": "code",
   "execution_count": 349,
   "metadata": {
    "lines_to_next_cell": 1
   },
   "outputs": [],
   "source": [
    "def train(X, T, learning_rate, n_epochs, verbose=False):\n",
    "\n",
    "    # Calculate means and standard deviations of each column in X and T\n",
    "    # mean\n",
    "    x_mean = np.mean(X, axis = 0)\n",
    "    x_std = np.std(X, axis = 0)\n",
    "    \n",
    "    \n",
    "    t_mean = np.mean(T, axis = 0)\n",
    "    t_std = np.std(T, axis = 0)\n",
    "\n",
    "    \n",
    "    # Use the means and standard deviations to standardize X and T\n",
    "    X = (X - x_mean)/ x_std\n",
    "    T = (T - t_mean)/ t_std\n",
    "\n",
    "    # Insert the column of constant 1's as a new initial column in X\n",
    "    \n",
    "    X1 = np.insert(X, 0, 1, 1)\n",
    "    \n",
    "    # Initialize weights to be a numpy array of the correct shape and all zeros values.\n",
    "    \n",
    "    n_samples, n_inputs = X1.shape\n",
    "    w = np.zeros((n_inputs, 1))\n",
    "    \n",
    "    ws = [w.copy()]\n",
    "    sample_rmse_list = []\n",
    "    \n",
    "    fig = plt.figure(figsize=(8, 8))\n",
    "    \n",
    "    for epoch in range(n_epochs):\n",
    "        sqerror_list = []\n",
    "\n",
    "        for n in range(n_samples):\n",
    "\n",
    "            # Use current weight values to predict output for sample n, then\n",
    "            y = X1[n:n+1, : ] @ w\n",
    "            # calculate the error, and\n",
    "            error = T[n:n+1, :] - y  \n",
    "            #error = y - T[n:n+1, :]\n",
    "            # update the weight values.\n",
    "            w += learning_rate * X1[n:n+1, :]. T * error\n",
    "            \n",
    "            # Add the squared error to sqerror_sum\n",
    "            sqerror_list.append(error ** 2)\n",
    "            \n",
    "            ws.append(w.copy())\n",
    "            \n",
    "            if n % 40 == 0:\n",
    "                \n",
    "                \n",
    "                fig.clf()\n",
    "                \n",
    "                # Plot the X and T data.\n",
    "                plt.subplot(2, 1, 1)\n",
    "                plt.plot(X, T, 'o', alpha=0.6, label='Data')\n",
    "                plt.plot(X[n], T[n], 'ko', ms=10, label='Last Trained Sample')\n",
    "                plt.plot(X, X1 @ w, 'r-', linewidth=5, label='Model')\n",
    "                \n",
    "                '''\n",
    "                # Plot the output of our linear model for a range of x values\n",
    "                plt.plot(X_copy, X1 @ w, 'r-', linewidth=5, label='Model')\n",
    "                plt.xlabel('$x$')\n",
    "                plt.legend(loc='upper right')\n",
    "                plt.xlim(0, 10)\n",
    "                plt.ylim(0, 5)\n",
    "                '''\n",
    "                \n",
    "               \n",
    "                plt.subplot(2, 1, 2)\n",
    "                plt.plot(np.array(ws)[:, :, 0])\n",
    "                plt.xlabel('Updates')\n",
    "                plt.xlim(0, n_epochs * n_samples)\n",
    "                plt.ylim(-1, 3)\n",
    "                plt.legend(('$w_0$', '$w_1$'))\n",
    "        \n",
    "                #clear_output(wait=True)\n",
    "                #display(fig)\n",
    "        '''   \n",
    "        plt.subplot(3,1,3)\n",
    "        sample_rmse_list.append(np.sqrt(sum(sqerror_list) / n_samples))\n",
    "        plt.plot(np.array(sample_rmse_list)[:,:,0],  label = \"RMSE\")\n",
    "        plt.xlabel('Epochs')\n",
    "        plt.xlim(0, n_epochs)\n",
    "        plt.ylim(-1, 2)\n",
    "        clear_output(wait=True)\n",
    "        display(fig)\n",
    "        '''\n",
    "        \n",
    "        if verbose and (n_epochs < 11 or (epoch + 1) % (n_epochs // 10) == 0):\n",
    "            rmse = np.sqrt(sum(sqerror_list) / n_samples)\n",
    "            rmse = rmse[0, 0]  # because rmse is 1x1 matrix\n",
    "            print(f'Epoch {epoch + 1} RMSE {rmse:.2f}')\n",
    "            \n",
    "        \n",
    "            \n",
    "\n",
    "    return {'w': w, 'Xmeans': x_mean, 'Xstds': x_std, 'Tmeans': t_mean, 'Tstds': t_std}"
   ]
  },
  {
   "cell_type": "code",
   "execution_count": 329,
   "metadata": {
    "lines_to_next_cell": 1
   },
   "outputs": [],
   "source": [
    "def use(X, model):\n",
    "    # Standardize X using Xmeans and Xstds in model\n",
    "    X = (X - model['Xmeans'])/ model['Xstds']\n",
    "    X = np.insert(X, 0, 1, 1)\n",
    "    # Predict output values using weights in model\n",
    "    pred_val = X @ model['w']\n",
    "    # Unstandardize the predicted output values using Tmeans and Tstds in model\n",
    "    pred_val = ( pred_val * model['Tstds']) + model['Tmeans']\n",
    "    \n",
    "    # Return the unstandardized output values\n",
    "    return pred_val"
   ]
  },
  {
   "cell_type": "code",
   "execution_count": 341,
   "metadata": {
    "lines_to_next_cell": 1
   },
   "outputs": [],
   "source": [
    "def rmse(A, B):\n",
    "    # return round(np.mean(np.sqrt(((A - B) ** 2)), axis=0)[0], 4)\n",
    "    return (np.sqrt((A - B) ** 2).mean())"
   ]
  },
  {
   "cell_type": "markdown",
   "metadata": {},
   "source": [
    "Here is a simple example use of your functions to help you debug them.  Your functions must produce the same results."
   ]
  },
  {
   "cell_type": "code",
   "execution_count": 324,
   "metadata": {},
   "outputs": [
    {
     "data": {
      "image/png": "[encoded data removed]",
      "text/plain": [
       "<Figure size 432x288 with 1 Axes>"
      ]
     },
     "metadata": {
      "needs_background": "light"
     },
     "output_type": "display_data"
    }
   ],
   "source": [
    "X = np.arange(0, 100).reshape(-1, 1)  # make X a 100 x 1 matrix\n",
    "T = 0.5 + 0.3 * X + 0.005 * (X - 50) ** 2 #original\n",
    "#T = -0.8 - 0.04 * X  + 0.003 * (X - 2)**3 #test\n",
    "plt.plot(X, T, '.')\n",
    "plt.xlabel('X')\n",
    "plt.ylabel('T');"
   ]
  },
  {
   "cell_type": "code",
   "execution_count": 313,
   "metadata": {},
   "outputs": [
    {
     "data": {
      "image/png": "[encoded data removed]",
      "text/plain": [
       "<Figure size 576x576 with 2 Axes>"
      ]
     },
     "metadata": {},
     "output_type": "display_data"
    },
    {
     "name": "stdout",
     "output_type": "stream",
     "text": [
      "Epoch 500 RMSE 0.40\n"
     ]
    },
    {
     "data": {
      "text/plain": [
       "{'w': array([[5.27086555e-05],\n",
       "        [9.11370918e-01]]),\n",
       " 'Xmeans': array([49.5]),\n",
       " 'Xstds': array([28.86607005]),\n",
       " 'Tmeans': array([19.5175]),\n",
       " 'Tstds': array([9.29491938])}"
      ]
     },
     "execution_count": 313,
     "metadata": {},
     "output_type": "execute_result"
    },
    {
     "data": {
      "image/png": "[encoded data removed]",
      "text/plain": [
       "<Figure size 576x576 with 2 Axes>"
      ]
     },
     "metadata": {
      "needs_background": "light"
     },
     "output_type": "display_data"
    }
   ],
   "source": [
    "model = train(X, T, 0.0001, 500, verbose=True)\n",
    "model"
   ]
  },
  {
   "cell_type": "code",
   "execution_count": 314,
   "metadata": {},
   "outputs": [
    {
     "data": {
      "text/plain": [
       "<matplotlib.legend.Legend at 0x7f1e0a462790>"
      ]
     },
     "execution_count": 314,
     "metadata": {},
     "output_type": "execute_result"
    },
    {
     "data": {
      "image/png": "[encoded data removed]",
      "text/plain": [
       "<Figure size 432x288 with 1 Axes>"
      ]
     },
     "metadata": {
      "needs_background": "light"
     },
     "output_type": "display_data"
    }
   ],
   "source": [
    "Y = use(X, model)\n",
    "plt.plot(T, '.', label='T')\n",
    "plt.plot(Y, '.', label='Y')\n",
    "plt.legend()"
   ]
  },
  {
   "cell_type": "code",
   "execution_count": 315,
   "metadata": {},
   "outputs": [
    {
     "data": {
      "text/plain": [
       "[<matplotlib.lines.Line2D at 0x7f1e0a237880>]"
      ]
     },
     "execution_count": 315,
     "metadata": {},
     "output_type": "execute_result"
    },
    {
     "data": {
      "image/png": "[encoded data removed]",
      "text/plain": [
       "<Figure size 432x288 with 1 Axes>"
      ]
     },
     "metadata": {
      "needs_background": "light"
     },
     "output_type": "display_data"
    }
   ],
   "source": [
    "plt.plot(Y[:, 0], T[:, 0], 'o')\n",
    "plt.xlabel('Predicted')\n",
    "plt.ylabel('Actual')\n",
    "a = max(min(Y[:, 0]), min(T[:, 0]))\n",
    "b = min(max(Y[:, 0]), max(T[:, 0]))\n",
    "plt.plot([a, b], [a, b], 'r', linewidth=3)"
   ]
  },
  {
   "cell_type": "markdown",
   "metadata": {},
   "source": [
    "## Weather Data"
   ]
  },
  {
   "cell_type": "markdown",
   "metadata": {},
   "source": [
    "Now that your functions are working, we can apply them to some real data. We will use data\n",
    "from  [CSU's CoAgMet Station Daily Data Access](http://coagmet.colostate.edu/cgi-bin/dailydata_form.pl).\n",
    "\n",
    "You can get the data file [here](http://www.cs.colostate.edu/~cs445/notebooks/A1_data.txt)"
   ]
  },
  {
   "cell_type": "markdown",
   "metadata": {},
   "source": [
    "## 5 points:\n",
    "\n",
    "Read in the data into variable `df` using `pandas.read_csv` like we did in lecture notes.\n",
    "Missing values in this dataset are indicated by the string `'***'`."
   ]
  },
  {
   "cell_type": "code",
   "execution_count": 174,
   "metadata": {},
   "outputs": [
    {
     "name": "stdout",
     "output_type": "stream",
     "text": [
      "<bound method NDFrame.head of      Year  Mo  Dy    tave    tmax   mxtm    tmin   mntm     vp  rhmax  ...  \\\n",
      "0    2019   1   1 -13.535 -10.073  14:10 -16.997  23:50  0.153  0.830  ...   \n",
      "1    2019   1   2  -5.791   6.010  14:50 -17.591  04:00  0.209  0.839  ...   \n",
      "2    2019   1   3   1.374  13.444  13:50 -10.696  05:00  0.340  0.836  ...   \n",
      "3    2019   1   4   4.544  15.089  14:40  -6.000  06:00  0.429  0.815  ...   \n",
      "4    2019   1   5   4.465  14.441  12:50  -5.510  06:40  0.399  0.769  ...   \n",
      "..    ...  ..  ..     ...     ...    ...     ...    ...    ...    ...  ...   \n",
      "360  2019  12  27  -1.493   2.260  14:40  -5.245  07:30  0.403  0.908  ...   \n",
      "361  2019  12  28  -2.695  -1.102  01:50  -4.288  07:00  0.363  0.973  ...   \n",
      "362  2019  12  29  -3.731   1.871  13:30  -9.333  22:40  0.221  0.690  ...   \n",
      "363  2019  12  30  -5.427   1.293  13:40 -12.147  06:20  0.226  0.833  ...   \n",
      "364  2019  12  31  -4.175   4.810  13:10 -13.160  06:50  0.247  0.862  ...   \n",
      "\n",
      "    st15mx  st15mxtm st15mn  st15mntm  volts    year    gust gusttm  gusdir  \\\n",
      "0   -1.803     00:00 -3.195     23:00    NaN  2019.0   5.155  08:10     NaN   \n",
      "1   -2.941     19:00 -4.802     11:00    NaN  2019.0   4.332  11:50     NaN   \n",
      "2   -1.979     22:00 -4.639     10:00    NaN  2019.0   4.096  15:40     NaN   \n",
      "3   -0.963     23:00 -2.768     10:00    NaN  2019.0   4.096  12:30     NaN   \n",
      "4   -0.350     23:00 -1.401     11:00    NaN  2019.0   4.077  12:20     NaN   \n",
      "..     ...       ...    ...       ...    ...     ...     ...    ...     ...   \n",
      "360  0.308     06:00  0.257     14:00    NaN  2019.0   4.469  16:00     NaN   \n",
      "361  0.298     20:00  0.264     10:00    NaN  2019.0  10.623  12:20     NaN   \n",
      "362  0.288     00:00  0.219     23:00    NaN  2019.0  11.486  07:10     NaN   \n",
      "363  0.200     00:00 -0.150     23:00    NaN  2019.0   4.586  14:30     NaN   \n",
      "364 -0.174     00:00 -0.917     13:00    NaN  2019.0   5.566  18:40     NaN   \n",
      "\n",
      "    etr_asce  \n",
      "0      0.324  \n",
      "1      0.521  \n",
      "2      0.729  \n",
      "3      0.893  \n",
      "4      0.867  \n",
      "..       ...  \n",
      "360    0.473  \n",
      "361    0.681  \n",
      "362    1.039  \n",
      "363    0.504  \n",
      "364    0.503  \n",
      "\n",
      "[365 rows x 30 columns]>\n"
     ]
    }
   ],
   "source": [
    "df = pandas.read_csv('A1_data.txt', delim_whitespace=True, na_values='***')\n",
    "print(df.head)"
   ]
  },
  {
   "cell_type": "markdown",
   "metadata": {},
   "source": [
    "## 5 points:\n",
    "\n",
    "Check for missing values by showing the number of NA values, as shown in lecture notes."
   ]
  },
  {
   "cell_type": "code",
   "execution_count": 175,
   "metadata": {},
   "outputs": [
    {
     "data": {
      "text/plain": [
       "Year          0\n",
       "Mo            0\n",
       "Dy            0\n",
       "tave          0\n",
       "tmax          0\n",
       "mxtm          0\n",
       "tmin          0\n",
       "mntm          0\n",
       "vp            0\n",
       "rhmax         0\n",
       "rhmxtm        0\n",
       "rhmin         0\n",
       "rhmntm        0\n",
       "sr            0\n",
       "wrun          0\n",
       "pp            0\n",
       "st5mx       211\n",
       "st5mxtm     211\n",
       "st5mn       211\n",
       "st5mntm     211\n",
       "st15mx        0\n",
       "st15mxtm      0\n",
       "st15mn        0\n",
       "st15mntm      0\n",
       "volts       365\n",
       "year          0\n",
       "gust          0\n",
       "gusttm        0\n",
       "gusdir      365\n",
       "etr_asce      0\n",
       "dtype: int64"
      ]
     },
     "execution_count": 175,
     "metadata": {},
     "output_type": "execute_result"
    }
   ],
   "source": [
    "df.isna().sum()"
   ]
  },
  {
   "cell_type": "markdown",
   "metadata": {},
   "source": [
    "## 5 points:\n",
    "\n",
    "If there are missing values, remove either samples or features that contain missing values. Prove that you\n",
    "were successful by counting the number of missing values now, which should be zero."
   ]
  },
  {
   "cell_type": "code",
   "execution_count": 176,
   "metadata": {},
   "outputs": [
    {
     "data": {
      "text/plain": [
       "['st5mx', 'st5mxtm', 'st5mn', 'st5mntm', 'volts', 'gusdir']"
      ]
     },
     "execution_count": 176,
     "metadata": {},
     "output_type": "execute_result"
    }
   ],
   "source": [
    "df.columns[df.isna().any()].tolist()"
   ]
  },
  {
   "cell_type": "code",
   "execution_count": 177,
   "metadata": {},
   "outputs": [],
   "source": [
    "df.drop(df.columns[df.isna().any()], axis = 1, inplace=True)"
   ]
  },
  {
   "cell_type": "code",
   "execution_count": 178,
   "metadata": {},
   "outputs": [
    {
     "data": {
      "text/plain": [
       "Index(['Year', 'Mo', 'Dy', 'tave', 'tmax', 'mxtm', 'tmin', 'mntm', 'vp',\n",
       "       'rhmax', 'rhmxtm', 'rhmin', 'rhmntm', 'sr', 'wrun', 'pp', 'st15mx',\n",
       "       'st15mxtm', 'st15mn', 'st15mntm', 'year', 'gust', 'gusttm', 'etr_asce'],\n",
       "      dtype='object')"
      ]
     },
     "execution_count": 178,
     "metadata": {},
     "output_type": "execute_result"
    }
   ],
   "source": [
    "df.columns"
   ]
  },
  {
   "cell_type": "code",
   "execution_count": 179,
   "metadata": {},
   "outputs": [
    {
     "data": {
      "text/plain": [
       "Year        0\n",
       "Mo          0\n",
       "Dy          0\n",
       "tave        0\n",
       "tmax        0\n",
       "mxtm        0\n",
       "tmin        0\n",
       "mntm        0\n",
       "vp          0\n",
       "rhmax       0\n",
       "rhmxtm      0\n",
       "rhmin       0\n",
       "rhmntm      0\n",
       "sr          0\n",
       "wrun        0\n",
       "pp          0\n",
       "st15mx      0\n",
       "st15mxtm    0\n",
       "st15mn      0\n",
       "st15mntm    0\n",
       "year        0\n",
       "gust        0\n",
       "gusttm      0\n",
       "etr_asce    0\n",
       "dtype: int64"
      ]
     },
     "execution_count": 179,
     "metadata": {},
     "output_type": "execute_result"
    }
   ],
   "source": [
    "df.isna().sum()"
   ]
  },
  {
   "cell_type": "markdown",
   "metadata": {},
   "source": [
    "Your job is now to create a linear model that predicts the next day's average temperature (tave) from the previous day's values. A discription of all features can be found [here](https://coagmet.colostate.edu/rawdata_docs.php). To start, consider just focusing on these features: \n",
    "1. tave: average temperature\n",
    "2. tmax: maximum temperature\n",
    "3. tmin: minimum temperature\n",
    "4. vp: vapor pressure\n",
    "5. rhmax: maximum relative humidity\n",
    "6. rhmin: minimum relative humidity\n",
    "7. pp: precipitation\n",
    "8. gust: wind gust speed\n",
    "\n",
    "First, modify the datafile to add a new column: 'next tave' -- here's a hint on your X and T vectors names:"
   ]
  },
  {
   "cell_type": "markdown",
   "metadata": {},
   "source": [
    "### Note - Try with different features after done with assignment"
   ]
  },
  {
   "cell_type": "code",
   "execution_count": 189,
   "metadata": {},
   "outputs": [],
   "source": [
    "Xnames = ['tave', 'tmax', 'tmin', 'vp', 'rhmax', 'rhmin', 'pp', 'gust']\n",
    "Tnames = ['next_tave']\n",
    "\n",
    "df['next_tave'] = df['tave']"
   ]
  },
  {
   "cell_type": "markdown",
   "metadata": {},
   "source": [
    "## 5 points:\n",
    "\n",
    "Now select those eight columns from `df` and convert the result to a `numpy` array.  (Easier than it sounds.)\n",
    "Then assign `X` to be all columns and all but the last row.  Assign `T` to be just the first column (tave) and all but the first sample.  So now the first row (sample) in `X` is associated with the first row (sample) in `T` which tave for the following day."
   ]
  },
  {
   "cell_type": "code",
   "execution_count": 192,
   "metadata": {},
   "outputs": [
    {
     "name": "stdout",
     "output_type": "stream",
     "text": [
      "(364, 8)\n",
      "(364, 1)\n"
     ]
    }
   ],
   "source": [
    "X = df[Xnames].to_numpy()[:-1, :]\n",
    "print(X.shape)\n",
    "\n",
    "T = df[Tnames].to_numpy()[1:, :]\n",
    "print(T.shape)"
   ]
  },
  {
   "cell_type": "markdown",
   "metadata": {},
   "source": [
    "## 15 points:\n",
    "\n",
    "Use the function `train` to train a model for the `X`\n",
    "and `T` data.  Run it several times with different `learning_rate`\n",
    "and `n_epochs` values to produce decreasing errors. Use the `use`\n",
    "function and plots of `T` versus predicted `Y` values to show how\n",
    "well the model is working.  Type your observations of the plot and of the value of `rmse` to discuss how well the model succeeds."
   ]
  },
  {
   "cell_type": "code",
   "execution_count": null,
   "metadata": {},
   "outputs": [],
   "source": []
  },
  {
   "cell_type": "markdown",
   "metadata": {},
   "source": [
    "## 5 points:\n",
    "\n",
    "Print the weight values in the resulting model along with their corresponding variable names (in `Xnames`). Use the relative magnitude\n",
    "of the weight values to discuss which input variables are most significant in predicting the changes in the tave values."
   ]
  },
  {
   "cell_type": "code",
   "execution_count": null,
   "metadata": {},
   "outputs": [],
   "source": []
  },
  {
   "cell_type": "markdown",
   "metadata": {},
   "source": [
    "## Grading and Check-in\n",
    "\n",
    "Your notebook will be partially graded automatically.  You can test this grading process yourself by downloading [A1grader.zip](https://www.cs.colostate.edu/~cs445/notebooks/A1grader.zip) and extract `A1grader.py` parallel to this notebook.  Run the code in the in the following cell to see an example grading run.  If your functions are defined correctly, you should see a score of 60/60.  The remaining 40 points are based on testing other data and your discussion."
   ]
  },
  {
   "cell_type": "code",
   "execution_count": 350,
   "metadata": {},
   "outputs": [
    {
     "name": "stdout",
     "output_type": "stream",
     "text": [
      "\n",
      "======================= Code Execution =======================\n",
      "\n",
      "Extracting python code from notebook named 'bhosale-A1.ipynb' and storing in notebookcode.py\n",
      "Removing all statements that are not function or class defs or import statements.\n",
      "\n",
      "Testing\n",
      "  X = np.array([1, 2, 3, 4, 5, 8, 9, 11]).reshape((-1, 1))\n",
      "  T = (X - 5) * 0.05 + 0.002 * (X - 8)**2\n",
      "  model = train(X, T, 0.001, 1000, True)\n",
      "\n",
      "Epoch 100 RMSE 0.46\n",
      "Epoch 200 RMSE 0.24\n",
      "Epoch 300 RMSE 0.15\n",
      "Epoch 400 RMSE 0.13\n",
      "Epoch 500 RMSE 0.13\n",
      "Epoch 600 RMSE 0.12\n",
      "Epoch 700 RMSE 0.12\n",
      "Epoch 800 RMSE 0.12\n",
      "Epoch 900 RMSE 0.12\n",
      "Epoch 1000 RMSE 0.12\n",
      "\n",
      "--- 20/20 points. Returned correct values.\n",
      "\n",
      "--- 10/10 points. Xmeans and Xstds are correct values.\n",
      "\n",
      "--- 10/10 points. Tmeans and Tstds are correct values.\n",
      "\n",
      "Testing\n",
      "  Y = use(X, model)\n",
      "\n",
      "\n",
      "--- 10/10 points. Returned correct values.\n",
      "\n",
      "Testing\n",
      "  err = rmse(Y, T)\n",
      "\n",
      "\n",
      "---  0/10 points. Returned incorrect values. err should be\n",
      "0.0176\n",
      "                       Your values are\n",
      "0.01548245301359504\n",
      "\n",
      "======================================================================\n",
      "cs445 Execution Grade is 50 / 60\n",
      "======================================================================\n",
      "\n",
      " __ / 5 Reading in weather.data correctly.\n",
      "\n",
      " __ / 5 Count missing values, to show there are some.\n",
      "\n",
      " __ / 5 Remove samples with missing values. Count to show there are none.\n",
      "\n",
      " __ / 5 Construct X and T matrices as specified.\n",
      "\n",
      " __ / 15 Use your train function on X and T. Show results as RMSE values and as plots\n",
      "       for several different values of learning_rate and n_epochs. Type your \n",
      "       observations of RMSE values and of plots with at least five sentences.\n",
      "\n",
      " __ / 5 Print the weight values with corresponding variable names. Discuss\n",
      "       which input variablesa re most signficant in predicting tave values.\n",
      "\n",
      "======================================================================\n",
      "cs445 FINAL GRADE is  _  / 100\n",
      "======================================================================\n",
      "\n",
      "Extra Credit:\n",
      "Predict the change in tave from one day to the next, instead of the actual tave.\n",
      "Show and discuss RMSE and plotting results for several values of learning_rate\n",
      "and n_epochs.\n",
      "\n",
      "cs445 EXTRA CREDIT is 0 / 1\n"
     ]
    },
    {
     "data": {
      "image/png": "[encoded data removed]",
      "text/plain": [
       "<Figure size 576x576 with 2 Axes>"
      ]
     },
     "metadata": {
      "needs_background": "light"
     },
     "output_type": "display_data"
    }
   ],
   "source": [
    "%run -i A1grader.py"
   ]
  },
  {
   "cell_type": "markdown",
   "metadata": {},
   "source": [
    "A different but similar grading script will be used to grade yout checked-in notebook.  It will include different tests.\n",
    "\n",
    "You must name your notebook as `Lastname-A1.ipynb` with `Lastname` being your last name, and then save this notebook and check it in at the A1 assignment link in our Canvas web page."
   ]
  },
  {
   "cell_type": "markdown",
   "metadata": {},
   "source": [
    "## Extra Credit: 1 point"
   ]
  },
  {
   "cell_type": "markdown",
   "metadata": {},
   "source": [
    "A typical problem when predicting the next value in a time series is\n",
    "that the best solution may be to predict the previous value.  The\n",
    "predicted value will look a lot like the input tave value shifted on\n",
    "time step later.\n",
    "\n",
    "To do better, try predicting the change in tave from one day to the next. `T` can be assigned as"
   ]
  },
  {
   "cell_type": "code",
   "execution_count": null,
   "metadata": {},
   "outputs": [],
   "source": [
    "T = data[1:, 0:1] -  data[:-1, 0:1]"
   ]
  },
  {
   "cell_type": "markdown",
   "metadata": {},
   "source": [
    "Now repeat the training experiments to pick good `learning_rate` and\n",
    "`n_epochs`.  Use predicted values to produce next day tave values by\n",
    "adding the predicted values to the previous day's tave.  Use `rmse`\n",
    "to determine if this way of predicting next tave is better than\n",
    "directly predicting tave."
   ]
  }
 ],
 "metadata": {
  "jupytext": {
   "formats": "ipynb,py"
  },
  "kernelspec": {
   "display_name": "Python 3",
   "language": "python",
   "name": "python3"
  },
  "language_info": {
   "codemirror_mode": {
    "name": "ipython",
    "version": 3
   },
   "file_extension": ".py",
   "mimetype": "text/x-python",
   "name": "python",
   "nbconvert_exporter": "python",
   "pygments_lexer": "ipython3",
   "version": "3.8.5"
  }
 },
 "nbformat": 4,
 "nbformat_minor": 2
}
